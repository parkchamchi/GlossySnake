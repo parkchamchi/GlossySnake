{
 "cells": [
  {
   "cell_type": "code",
   "execution_count": 1,
   "metadata": {},
   "outputs": [],
   "source": [
    "import os\n",
    "\n",
    "from pylatex import (\n",
    "\tDocument,\n",
    "\tSection,\n",
    "\tSubsection,\n",
    "\tCommand,\n",
    "\tPackage,\n",
    ")\n",
    "from pylatex.utils import (\n",
    "\titalic,\n",
    "\tNoEscape,\n",
    ")\n",
    "from pylatex.section import (\n",
    "\tParagraph,\n",
    ")"
   ]
  },
  {
   "cell_type": "markdown",
   "metadata": {},
   "source": [
    "section\n",
    "\tsubsection\n",
    "\t"
   ]
  },
  {
   "cell_type": "code",
   "execution_count": 2,
   "metadata": {},
   "outputs": [],
   "source": [
    "def get_doc(corpus):\n",
    "\tgeometry_options = {\"margin\": \"2cm\"}\n",
    "\tdoc = Document(geometry_options=geometry_options)\n",
    "\tdoc.packages.append(Package(\"expex\"))\n",
    "\n",
    "\tdoc.append(Command(\"title\", NoEscape(r\"GlossySnake: A LaTeX Application \\\\ \\large on Die Leiden des jungen Werther\")))\n",
    "\tdoc.append(Command(\"author\", \"Chanjin Park a.k.a. \\\"Chamchi\\\" (parkchamchi@gmail.com)\"))\n",
    "\tdoc.append(Command(\"maketitle\"))\n",
    "\n",
    "\twith doc.create(Section(\"On GlossySnake\")):\n",
    "\t\tintroduction = \"\"\"\n",
    "\t\t\tThis is a \\LaTeX{}\t Proof-of-Concept of the GlossySnake project.\n",
    "\t\t\tThe GlossySnake project aims to approximate the Interlinear Translation corpora via machine-glossing.\n",
    "\t\t\tBy the nature of the machine-glossing, the inaccurate and malformatted glossing is expected.\n",
    "\t\t\tVisit https://github.com/parkchamchi/GlossySnake for more information.\n",
    "\t\t\"\"\"\n",
    "\n",
    "\t\tdoc.append(NoEscape(introduction.replace('\\n', '').replace('\\t', ' ').strip()))\n",
    "\n",
    "\t#doc.append(Command(\"lingexbreakpenalty=10000\"))\n",
    "\n",
    "\tcorpus_title = \"Die Leiden des jungen Werther (1774)\"\n",
    "\twith doc.create(Section(corpus_title)):\n",
    "\t\tfor p in corpus[\"paragraphs\"]:\n",
    "\t\t\tif p[\"is_delimiter\"]:\n",
    "\t\t\t\tcontinue\n",
    "\n",
    "\t\t\t#with doc.create(Paragraph(\"\")):\n",
    "\t\t\ttxt_s = []\n",
    "\t\t\tgloss_s = []\n",
    "\n",
    "\t\t\t#Ignoring delimters.\n",
    "\t\t\tfor t in p[\"tokens\"]:\n",
    "\t\t\t\tif t[\"is_delimiter\"]:\n",
    "\t\t\t\t\tif '\\n' in t[\"txt\"]:\n",
    "\t\t\t\t\t\ttxt_s.append('+')\n",
    "\t\t\t\t\t\t#gloss_s.append('+')\n",
    "\t\t\t\t\tcontinue\n",
    "\t\t\t\t\n",
    "\t\t\t\ttxt_s.append(t[\"txt\"])\n",
    "\n",
    "\t\t\t\tgloss = t[\"gloss\"]\n",
    "\t\t\t\tif gloss == \"!UNKNOWN\":\n",
    "\t\t\t\t\tgloss = \"-\"\n",
    "\t\t\t\tgloss_s.append(gloss)\n",
    "\n",
    "\t\t\tif [e for e in txt_s if e.strip()] == []:\n",
    "\t\t\t\tcontinue\n",
    "\n",
    "\t\t\t#expex\n",
    "\t\t\t#with doc.create(Subsection(\"\")):\n",
    "\t\t\tdoc.append(Command(\"exdisplay\"))\n",
    "\t\t\t\"\"\"\n",
    "\t\t\tdoc.append(Command(\"begingl\", None, {\n",
    "\t\t\t\t\"everygla\": '',\n",
    "\t\t\t\t\"everyglb\": r\"\\tt\",\n",
    "\t\t\t\t\"glwordalign\": \"center\",\n",
    "\t\t\t}))\n",
    "\t\t\t\"\"\"\n",
    "\t\t\tdoc.append(NoEscape(\n",
    "\t\t\t\tr\"\\begingl[\"\n",
    "\t\t\t\tr\"everygla=\\LARGE,everyglb=\\tt,\"\n",
    "\t\t\t\tr\"glwordalign=center,extraglskip=0.75em,aboveglbskip=0.25em,\"\n",
    "\t\t\t\tr\"glbreaking,glspace=0.75em\"\n",
    "\t\t\t\tr\"]\"\n",
    "\t\t\t))\n",
    "\n",
    "\t\t\tdoc.append(Command(\"gla \" + \" \".join(['{'+e+'}' for e in txt_s]) + \" // \"))\n",
    "\t\t\tdoc.append(Command(\"glb \" + \" \".join(['{'+e+'}' for e in gloss_s]) + \" // \"))\n",
    "\t\t\t#doc.append(Command(\"glft // \"))\n",
    "\n",
    "\t\t\tdoc.append(Command(\"endgl\"))\n",
    "\t\t\tdoc.append(Command(\"xe\"))\n",
    "\t\t\t\n",
    "\treturn doc\n"
   ]
  },
  {
   "cell_type": "code",
   "execution_count": 3,
   "metadata": {},
   "outputs": [],
   "source": [
    "import json\n",
    "\n",
    "corpus = \"./Die Leiden des jungen Werther.corpus.json\"\n",
    "with open(corpus, \"rt\", encoding=\"utf-8\") as fin:\n",
    "\tcorpus = json.load(fin)"
   ]
  },
  {
   "cell_type": "code",
   "execution_count": 4,
   "metadata": {},
   "outputs": [],
   "source": [
    "doc = get_doc(corpus)\n",
    "doc.generate_pdf(\"full\", clean_tex=False)"
   ]
  },
  {
   "cell_type": "code",
   "execution_count": null,
   "metadata": {},
   "outputs": [],
   "source": []
  }
 ],
 "metadata": {
  "kernelspec": {
   "display_name": "Python 3",
   "language": "python",
   "name": "python3"
  },
  "language_info": {
   "codemirror_mode": {
    "name": "ipython",
    "version": 3
   },
   "file_extension": ".py",
   "mimetype": "text/x-python",
   "name": "python",
   "nbconvert_exporter": "python",
   "pygments_lexer": "ipython3",
   "version": "3.11.3"
  }
 },
 "nbformat": 4,
 "nbformat_minor": 2
}
